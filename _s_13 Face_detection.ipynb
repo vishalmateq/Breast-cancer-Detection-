{
 "cells": [
  {
   "cell_type": "code",
   "execution_count": 1,
   "metadata": {},
   "outputs": [],
   "source": [
    "# !pip install pip --upgrade"
   ]
  },
  {
   "cell_type": "code",
   "execution_count": 2,
   "metadata": {},
   "outputs": [],
   "source": [
    "# !pip install mediapipe"
   ]
  },
  {
   "cell_type": "code",
   "execution_count": 1,
   "metadata": {},
   "outputs": [],
   "source": [
    "import mediapipe as mp\n",
    "import cv2 as cv2"
   ]
  },
  {
   "cell_type": "code",
   "execution_count": 2,
   "metadata": {},
   "outputs": [],
   "source": [
    "import pandas as pd\n",
    "import numpy as np\n",
    "import matplotlib.pyplot as plt"
   ]
  },
  {
   "cell_type": "code",
   "execution_count": 3,
   "metadata": {},
   "outputs": [
    {
     "data": {
      "text/plain": [
       "-1"
      ]
     },
     "execution_count": 3,
     "metadata": {},
     "output_type": "execute_result"
    }
   ],
   "source": [
    "img = cv2.imread(r\"C:\\Users\\dellc\\Desktop\\TCR\\image\\Resources\\lady.jpg\")\n",
    "# cv2.imshow(\"image\", img)\n",
    "cv2.waitKey(0)"
   ]
  },
  {
   "cell_type": "code",
   "execution_count": 4,
   "metadata": {},
   "outputs": [
    {
     "data": {
      "text/plain": [
       "-1"
      ]
     },
     "execution_count": 4,
     "metadata": {},
     "output_type": "execute_result"
    }
   ],
   "source": [
    "mpdraw = mp.solutions.drawing_utils   #utilis -- drwing the land marks\n",
    "mpfacemesh = mp.solutions.face_mesh   #algorithm neural network \n",
    "facemesh = mpfacemesh.FaceMesh(static_image_mode=True,min_detection_confidence=0.5 ,min_tracking_confidence =0.5)\n",
    "#if your 50%confidence it is face\n",
    "drawing = mpdraw.DrawingSpec(thickness=1, circle_radius=2 ,color=(0,255,255)) #b,g,r\n",
    "\n",
    "#creating b;ank img\n",
    "blank =np.zeros(img.shape, np.uint8) \n",
    "with mpfacemesh.FaceMesh(static_image_mode=True,min_detection_confidence=0.5 ,min_tracking_confidence =0.5 ) as face_mesh:\n",
    "    results =facemesh.process(cv2.cvtColor(img, cv2.COLOR_BGR2RGB))\n",
    "    for face_landmarks in results.multi_face_landmarks:\n",
    "        \n",
    "        \n",
    "        \n",
    "#         print(face_landmarks)\n",
    "        mpdraw.draw_landmarks(img, face_landmarks, mpfacemesh.FACEMESH_TESSELATION, drawing, drawing)\n",
    "        mpdraw.draw_landmarks(blank, face_landmarks, mpfacemesh.FACEMESH_TESSELATION, drawing, drawing)\n",
    "cv2.imshow('face landmarks are:' , img)\n",
    "cv2.imshow('ploting landmarks', blank)\n",
    "cv2.waitKey(0)"
   ]
  },
  {
   "cell_type": "markdown",
   "metadata": {},
   "source": [
    "# face detection "
   ]
  },
  {
   "cell_type": "code",
   "execution_count": 7,
   "metadata": {},
   "outputs": [],
   "source": [
    "# import cv2\n",
    "# import mediapipe as mp\n",
    "# mp_drawing = mp.solutions.drawing_utils\n",
    "# mp_drawing_styles = mp.solutions.drawing_styles\n",
    "# mp_face_mesh = mp.solutions.face_mesh\n",
    "# drawing_spec = mp_drawing.DrawingSpec(thickness=1, circle_radius=1)\n",
    "# cap = cv2.VideoCapture(0)\n",
    "# with mp_face_mesh.FaceMesh(\n",
    "#     max_num_faces=1,\n",
    "#     refine_landmarks=True,\n",
    "#     min_detection_confidence=0.5,\n",
    "#     min_tracking_confidence=0.5) as face_mesh:\n",
    "#   while cap.isOpened():\n",
    "#     success, image = cap.read()\n",
    "#     if not success:\n",
    "#       print(\"Ignoring empty camera frame.\")\n",
    "#       continue\n",
    "\n",
    "#     image.flags.writeable = False\n",
    "#     image = cv2.cvtColor(image, cv2.COLOR_BGR2RGB)\n",
    "#     results = face_mesh.process(image)\n",
    "#     image.flags.writeable = True\n",
    "#     image = cv2.cvtColor(image, cv2.COLOR_RGB2BGR)\n",
    "#     if results.multi_face_landmarks:\n",
    "#       for face_landmarks in results.multi_face_landmarks:\n",
    "#         mp_drawing.draw_landmarks(\n",
    "#             image=image,\n",
    "#             landmark_list=face_landmarks,\n",
    "#             connections=mp_face_mesh.FACEMESH_TESSELATION,\n",
    "#             landmark_drawing_spec=None,\n",
    "#             connection_drawing_spec=mp_drawing_styles\n",
    "#             .get_default_face_mesh_tesselation_style())\n",
    "#     cv2.imshow('MediaPipe Face Mesh', cv2.flip(image, 1))\n",
    "#     if cv2.waitKey(5) & 0xFF == ord('q'):\n",
    "#       break\n",
    "# cap.release()"
   ]
  },
  {
   "cell_type": "code",
   "execution_count": 9,
   "metadata": {},
   "outputs": [
    {
     "ename": "SyntaxError",
     "evalue": "invalid syntax (<ipython-input-9-f43661d86aa9>, line 3)",
     "output_type": "error",
     "traceback": [
      "\u001b[1;36m  File \u001b[1;32m\"<ipython-input-9-f43661d86aa9>\"\u001b[1;36m, line \u001b[1;32m3\u001b[0m\n\u001b[1;33m    prine = 8 mpdraw = mp.solutions.drawing_utils\u001b[0m\n\u001b[1;37m              ^\u001b[0m\n\u001b[1;31mSyntaxError\u001b[0m\u001b[1;31m:\u001b[0m invalid syntax\n"
     ]
    }
   ],
   "source": [
    "# import time\n",
    "\n",
    "# prine = 8 mpdraw = mp.solutions.drawing_utils\n",
    "\n",
    "# mpfacemesh mp.solutions.face_mesh\n",
    "\n",
    "# facenesha mpfacenesh.FaceMesh(max_num_faces1, min_detection_confidence 6.5, min_tracking_confidence @.5) drawing=mpdraw.Drawingspec(thickness=1, circle_radius=2, color=(8,255, 255))\n",
    "\n",
    "# capture cv2.videoCapture (0) while(capture.isopened()):\n",
    "\n",
    "# ret, frame = capture.read()\n",
    "\n",
    "# results facemesh.process(cv2.cvtColor (frame, cvz.COLOR_BGR2RGB)) if results.multi_face_landmarks:\n",
    "\n",
    "# for UMS in results.multi_face_landmarks:\n",
    "\n",
    "# npdraw.draw_landmarks (frame, US, mpfacemesh.FACE CONNECTIONS, drawing, drawing)\n",
    "\n",
    "# cTime = tine.time()\n",
    "\n",
    "# fps = 1/(ctime plime) pTime = crime\n",
    "\n",
    "# cv2.putText(frame, ffps: (int(fps)), (20, 70), CV2.FONT HERSHEY PLAIN, 1, (0,255, 255), 1)\n",
    "\n",
    "# if ret:\n",
    "\n",
    "# Cv2.inshow(\"my face, frame)\n",
    "\n",
    "# if cv2.waitkey(1) & exFF ord('q') or frame.size:\n",
    "\n",
    "# break\n",
    "\n",
    "# else:\n",
    "\n",
    "# break\n",
    "\n",
    "# capture.release()\n",
    "\n",
    "# cv2.destroyAllwindows()"
   ]
  },
  {
   "cell_type": "code",
   "execution_count": null,
   "metadata": {},
   "outputs": [],
   "source": []
  }
 ],
 "metadata": {
  "kernelspec": {
   "display_name": "Python 3",
   "language": "python",
   "name": "python3"
  },
  "language_info": {
   "codemirror_mode": {
    "name": "ipython",
    "version": 3
   },
   "file_extension": ".py",
   "mimetype": "text/x-python",
   "name": "python",
   "nbconvert_exporter": "python",
   "pygments_lexer": "ipython3",
   "version": "3.8.5"
  }
 },
 "nbformat": 4,
 "nbformat_minor": 4
}
